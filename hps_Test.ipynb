{
 "cells": [
  {
   "cell_type": "code",
   "execution_count": 1,
   "metadata": {},
   "outputs": [],
   "source": [
    "import numpy as np\n",
    "import matplotlib.pyplot as plt\n",
    "from scipy.signal import stft \n",
    "from scipy.signal import medfilt as mediann\n",
    "from librosa import stft, istft\n",
    "import signals as get\n",
    "from plotting import plot\n"
   ]
  },
  {
   "attachments": {},
   "cell_type": "markdown",
   "metadata": {},
   "source": [
    "## HPS: Separacion Armonica y Percusiva.\n",
    "Este algoritmo busca seraparar las componetes armonicas y percusivas de una señal de audio, con el objetivo de implementar un TSM hibrido que procesa cada una de estas componentes por serapado,  el OLA y PV  aprovechando las mejores cualidades de cada uno.\n",
    "\n",
    "La entrada de este algoritmo es la señal de audio con su correspondiente $F_s$, luego tenemos los parametros quen permite modificar son: \n",
    "\n",
    "-$N$: El largo de la STFT tiene una gran ifluencia en el desempeño del algoritmo existe una relacion de compromiso entre resolucion en frecuencia y tiempo. Cuanto mayor sea este valor mejora en frecuencia y pasa lo contrario en tiempo. \n",
    "\n",
    "-$M$: El largo de la ventana del fitro de mediana. A mayores valores aumenta el suavisado que genera. \n",
    "\n",
    "TERMINAR\n",
    "\n",
    "A continuacion se detallan las pruebas de este algoritmo las cuales las dividimos en dos partes. Primero se muestran las objetivas, en las cules se busca medir los resultados con señales generadas digitalmente. Luego realizamos estas tipo de pruebas en contexto de TSM.\n",
    "Y finalmente buscaremos evaluar al algoritmo de forma subjetiva con señales musicales para realizar un TSM. \n",
    "\n",
    "# Puebas Objetivas.\n",
    "\n",
    "Primero generamos la señal de prueba $x[n]_e$ que sera la suma de otras señales puramente armonicas $x[n]_a$ y percusivas $x[n]$. En teoria si el aglgoritmo fuese perfecto, si ingresamos $x[n]_e$ deberia devolvernos a la salida $x[n]_a$ y $x[n]_p$ por lo tanto estas señales seran utiles para compararlas con la salida y medir eficacia del metodo. \n",
    "\n",
    " "
   ]
  },
  {
   "cell_type": "code",
   "execution_count": null,
   "metadata": {},
   "outputs": [],
   "source": []
  }
 ],
 "metadata": {
  "kernelspec": {
   "display_name": "venv39",
   "language": "python",
   "name": "python3"
  },
  "language_info": {
   "codemirror_mode": {
    "name": "ipython",
    "version": 3
   },
   "file_extension": ".py",
   "mimetype": "text/x-python",
   "name": "python",
   "nbconvert_exporter": "python",
   "pygments_lexer": "ipython3",
   "version": "3.9.11"
  },
  "orig_nbformat": 4
 },
 "nbformat": 4,
 "nbformat_minor": 2
}
