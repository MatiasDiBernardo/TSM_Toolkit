{
 "cells": [
  {
   "cell_type": "code",
   "execution_count": 24,
   "metadata": {},
   "outputs": [],
   "source": [
    "import numpy as np\n",
    "import matplotlib.pyplot as plt\n",
    "from IPython.display import Audio\n",
    "\n",
    "import test_objective as TO\n",
    "import test_subjective as TS"
   ]
  },
  {
   "attachments": {},
   "cell_type": "markdown",
   "metadata": {},
   "source": [
    "## Pruebas objetivas\n"
   ]
  },
  {
   "attachments": {},
   "cell_type": "markdown",
   "metadata": {},
   "source": [
    "En esta sección se busca analizar como varia el algorítmo antes distintos casos de interes y bajo distintos parámetros. COmo el procedimiento de TSM con phase vocoder necesita de estimar la frecuencia instantánea, se necesita de tamaños de ventana realtivamente alto para que la resolución frecuencial sea la adecuada. En los diccionarios se deja constancia de los distintos tipos de configuración probadas bajo estos test."
   ]
  },
  {
   "cell_type": "code",
   "execution_count": 22,
   "metadata": {},
   "outputs": [],
   "source": [
    "alpha = 0.8\n",
    "cfg1 = {\"N\": 8192, \"Hs\": 8192//4, \"alpha\": alpha, \"fs\": 22050}\n",
    "cfg2 = {\"N\": 8192, \"Hs\": 8192//2, \"alpha\": alpha, \"fs\": 22050}\n",
    "cfg3 = {\"N\": 4096, \"Hs\": 4096//2, \"alpha\": alpha, \"fs\": 22050}\n",
    "cfg4 = {\"N\": 4096, \"Hs\": 4096//4, \"alpha\": alpha, \"fs\": 22050}\n",
    "cfg5 = {\"N\": 4096, \"Hs\": 4096//6, \"alpha\": alpha, \"fs\": 22050}\n",
    "cfg6 = {\"N\": 2048, \"Hs\": 2048//4, \"alpha\": alpha, \"fs\": 22050}\n",
    "cfg7 = {\"N\": 2048, \"Hs\": 2048//6, \"alpha\": alpha, \"fs\": 22050}\n",
    "cfg8 = {\"N\": 1024, \"Hs\": 1024//4, \"alpha\": alpha, \"fs\": 22050}"
   ]
  },
  {
   "attachments": {},
   "cell_type": "markdown",
   "metadata": {},
   "source": [
    "El primer test compara señales ideales respeto a un caso base de interes particular para cada algorítmo. En el primer test se usará una señal senoidal."
   ]
  },
  {
   "cell_type": "code",
   "execution_count": 25,
   "metadata": {},
   "outputs": [
    {
     "ename": "TypeError",
     "evalue": "test_ideal_signal() got an unexpected keyword argument 'f0'",
     "output_type": "error",
     "traceback": [
      "\u001b[1;31m---------------------------------------------------------------------------\u001b[0m",
      "\u001b[1;31mTypeError\u001b[0m                                 Traceback (most recent call last)",
      "Cell \u001b[1;32mIn[25], line 7\u001b[0m\n\u001b[0;32m      4\u001b[0m gain_dif_value \u001b[39m=\u001b[39m []\n\u001b[0;32m      6\u001b[0m \u001b[39mfor\u001b[39;00m f \u001b[39min\u001b[39;00m freqs:\n\u001b[1;32m----> 7\u001b[0m     sim, gain \u001b[39m=\u001b[39m TO\u001b[39m.\u001b[39mtest_ideal_signal(algo\u001b[39m=\u001b[39m\u001b[39m\"\u001b[39m\u001b[39mPV\u001b[39m\u001b[39m\"\u001b[39m, f0\u001b[39m=\u001b[39mf, plot\u001b[39m=\u001b[39m\u001b[39mFalse\u001b[39;00m, audio_save\u001b[39m=\u001b[39m\u001b[39mFalse\u001b[39;00m, return_audios\u001b[39m=\u001b[39m\u001b[39mFalse\u001b[39;00m, \u001b[39m*\u001b[39m\u001b[39m*\u001b[39mcfg1)\n\u001b[0;32m      8\u001b[0m     sim_value\u001b[39m.\u001b[39mappend(sim)\n\u001b[0;32m      9\u001b[0m     gain_dif_value\u001b[39m.\u001b[39mappend(gain)\n",
      "\u001b[1;31mTypeError\u001b[0m: test_ideal_signal() got an unexpected keyword argument 'f0'"
     ]
    }
   ],
   "source": [
    "freqs = np.logspace(1,10000, 500)  #Frecuencias a analizar\n",
    "\n",
    "sim_value = []\n",
    "gain_dif_value = []\n",
    "\n",
    "for f in freqs:\n",
    "    sim, gain = TO.test_ideal_signal(algo=\"PV\", f0=f, plot=False, audio_save=False, return_audios=False, **cfg1)\n",
    "    sim_value.append(sim)\n",
    "    gain_dif_value.append(gain)\n",
    "\n",
    "plt.plot(freqs, sim_value)\n"
   ]
  },
  {
   "cell_type": "code",
   "execution_count": 27,
   "metadata": {},
   "outputs": [
    {
     "ename": "TypeError",
     "evalue": "test_ideal_signal() got an unexpected keyword argument 'return_audios'",
     "output_type": "error",
     "traceback": [
      "\u001b[1;31m---------------------------------------------------------------------------\u001b[0m",
      "\u001b[1;31mTypeError\u001b[0m                                 Traceback (most recent call last)",
      "Cell \u001b[1;32mIn[27], line 1\u001b[0m\n\u001b[1;32m----> 1\u001b[0m rta \u001b[39m=\u001b[39m TO\u001b[39m.\u001b[39mtest_ideal_signal(\u001b[39m\"\u001b[39m\u001b[39mPV\u001b[39m\u001b[39m\"\u001b[39m, plot\u001b[39m=\u001b[39m\u001b[39mFalse\u001b[39;00m, audio_save\u001b[39m=\u001b[39m\u001b[39mFalse\u001b[39;00m, return_audios\u001b[39m=\u001b[39m\u001b[39mFalse\u001b[39;00m, \u001b[39m*\u001b[39m\u001b[39m*\u001b[39mcfg2)\n",
      "\u001b[1;31mTypeError\u001b[0m: test_ideal_signal() got an unexpected keyword argument 'return_audios'"
     ]
    }
   ],
   "source": [
    "rta = TO.test_ideal_signal(\"PV\", plot=False, audio_save=False, return_audios=False, **cfg2)"
   ]
  },
  {
   "attachments": {},
   "cell_type": "markdown",
   "metadata": {},
   "source": [
    "TO.test"
   ]
  }
 ],
 "metadata": {
  "kernelspec": {
   "display_name": "TSM",
   "language": "python",
   "name": "python3"
  },
  "language_info": {
   "codemirror_mode": {
    "name": "ipython",
    "version": 3
   },
   "file_extension": ".py",
   "mimetype": "text/x-python",
   "name": "python",
   "nbconvert_exporter": "python",
   "pygments_lexer": "ipython3",
   "version": "3.9.16"
  },
  "orig_nbformat": 4
 },
 "nbformat": 4,
 "nbformat_minor": 2
}
