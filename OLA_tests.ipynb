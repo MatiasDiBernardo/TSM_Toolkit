{
 "cells": [
  {
   "attachments": {},
   "cell_type": "markdown",
   "metadata": {},
   "source": [
    "**OLA TESTING**"
   ]
  },
  {
   "attachments": {},
   "cell_type": "markdown",
   "metadata": {},
   "source": [
    "##### Un poco de contexto\n",
    "Como hemos visto, desde la teoria y los papers sabemos que OLA no funciona bien con señales armonicas, ya que no es capaz de preservar estructuras periodicas locales en la señal de entrada. En la señal de salida, los patrones periodicos son distorsionados, a lo que se denomina 'artefactos de saltos de fase'.\n",
    "\n",
    "Pero este algoritmo en teoria entrega buenos resultados con señales percusivas, como por ejemplo baterias.\n",
    "Esto es así debido a que las señales con contenido percusivo carecen de estructuras locales periódicas, por lo que, los artefactos de saltos de fase no son notables en la señal de salida. \n"
   ]
  },
  {
   "attachments": {},
   "cell_type": "markdown",
   "metadata": {},
   "source": [
    "Segun Driedger y Muller, es importante utilizar un largo de frame M muy pequeño \n",
    "(aproximadamente 10ms) para reducir el efecto indeseado de duplicacion de transientes.\n",
    "Esta duplicación de transientes sucede ya que al recolocar los frames y copiarlos en la señal de salida, si la transiente aparece en dos frames, será duplicada en la salida y se escuchará dos veces en una rápida sucesión, lo que es indeseado y antinatural para esta aplicación. "
   ]
  },
  {
   "attachments": {},
   "cell_type": "markdown",
   "metadata": {},
   "source": [
    "##### A tener en cuenta en este testeo\n",
    "\n",
    "Primero podemos hacer unas pruebas basicas con señales armonicas vs percusivas con el N recomendado de ventana de 10 ms, para corroborar las premisas vistas, subjetivamente.\n",
    "\n",
    "Podemos hacer varias pruebas con distintos audios percusivos, por ejemplo: baterías acústicas, platillos, tambores, shakers, mallets, baterias electrónicas, entre otros, variando el tamaño de ventana y observando el comportamiento.\n",
    "\n",
    "A modo de testeo objetivo: podemos comparar el comportamiento del algoritmo con señales diseñadas en python (senos) contra el resultado ideal, que seria diseñar esa misma señal pero con la escala temporal modificada.\n",
    "\n",
    "\n",
    "\n"
   ]
  },
  {
   "cell_type": "code",
   "execution_count": 17,
   "metadata": {},
   "outputs": [],
   "source": [
    "#Imports\n",
    "import numpy as np\n",
    "import matplotlib.pyplot as plt\n",
    "import ola as ola \n",
    "from test import plotting \n"
   ]
  },
  {
   "attachments": {},
   "cell_type": "markdown",
   "metadata": {},
   "source": [
    "**##### Algunas pruebas iniciales, con señales reales, armonicas y percusivas**"
   ]
  },
  {
   "attachments": {},
   "cell_type": "markdown",
   "metadata": {},
   "source": [
    "Observacion:\n",
    "tamaño de ventana en segundos: w_size = N/fs\n",
    "\n",
    "Para fs = 44100\n",
    "\n",
    "algunos casos:\n",
    "Si N = 441 -> w_size = 10 ms\n",
    "\n",
    "Si N = 882 -> w_size = 20 ms\n",
    "\n",
    "Si N = 1024 -> w_size = 23 ms\n",
    "\n",
    "Si N = 2048 -> w_size = 46 ms\n",
    "\n",
    "Si N = 4096 -> w_size = 92 ms\n",
    "\n",
    "Si N = 8192 -> w_size = 184 ms"
   ]
  },
  {
   "cell_type": "code",
   "execution_count": 18,
   "metadata": {},
   "outputs": [
    {
     "ename": "ValueError",
     "evalue": "too many values to unpack (expected 2)",
     "output_type": "error",
     "traceback": [
      "\u001b[0;31m---------------------------------------------------------------------------\u001b[0m",
      "\u001b[0;31mValueError\u001b[0m                                Traceback (most recent call last)",
      "Cell \u001b[0;32mIn[18], line 4\u001b[0m\n\u001b[1;32m      1\u001b[0m \u001b[39m'''\u001b[39;00m\n\u001b[1;32m      2\u001b[0m \u001b[39mPRUEBA1 - signal: synth - fs=44100 - N=441 (10ms) - alpha=1.5 - Hs=N/2\u001b[39;00m\n\u001b[1;32m      3\u001b[0m \u001b[39m'''\u001b[39;00m\n\u001b[0;32m----> 4\u001b[0m synth, synth_prueba1 \u001b[39m=\u001b[39m ola\u001b[39m.\u001b[39mquick_test_OLA(\u001b[39m'\u001b[39m\u001b[39maudios/synth.wav\u001b[39m\u001b[39m'\u001b[39m,\u001b[39m882\u001b[39m,\u001b[39m44100\u001b[39m,\u001b[39m1.5\u001b[39m,\u001b[39m882\u001b[39m\u001b[39m/\u001b[39m\u001b[39m/\u001b[39m\u001b[39m2\u001b[39m,\u001b[39mTrue\u001b[39;00m)\n\u001b[1;32m      6\u001b[0m basic_plot_comparison(synth,synth_prueba1,\u001b[39m44100\u001b[39m)\n",
      "\u001b[0;31mValueError\u001b[0m: too many values to unpack (expected 2)"
     ]
    }
   ],
   "source": [
    "'''\n",
    "PRUEBA1 - signal: synth - fs=44100 - N=441 (10ms) - alpha=1.5 - Hs=N/2\n",
    "'''\n",
    "synth, synth_prueba1 = ola.quick_test_OLA('audios/synth.wav',882,44100,1.5,882//2,True)\n",
    "\n",
    "basic_plot_comparison(synth,synth_prueba1,44100)\n",
    "\n"
   ]
  },
  {
   "cell_type": "code",
   "execution_count": null,
   "metadata": {},
   "outputs": [],
   "source": []
  }
 ],
 "metadata": {
  "kernelspec": {
   "display_name": "pds_untref",
   "language": "python",
   "name": "python3"
  },
  "language_info": {
   "codemirror_mode": {
    "name": "ipython",
    "version": 3
   },
   "file_extension": ".py",
   "mimetype": "text/x-python",
   "name": "python",
   "nbconvert_exporter": "python",
   "pygments_lexer": "ipython3",
   "version": "3.8.16"
  },
  "orig_nbformat": 4
 },
 "nbformat": 4,
 "nbformat_minor": 2
}
